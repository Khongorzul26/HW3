{
 "cells": [
  {
   "cell_type": "markdown",
   "id": "ed9d78d2",
   "metadata": {},
   "source": [
    "Task 1"
   ]
  },
  {
   "cell_type": "code",
   "execution_count": 3,
   "id": "a1eab5e6",
   "metadata": {},
   "outputs": [
    {
     "name": "stdout",
     "output_type": "stream",
     "text": [
      "30\n"
     ]
    }
   ],
   "source": [
    "#Only args /Positional/\n",
    "\n",
    "def add_numbers(input1, input2):\n",
    "    sum = input1 + input2\n",
    "    return sum\n",
    "result = add_numbers(10,20)\n",
    "print(result)"
   ]
  },
  {
   "cell_type": "code",
   "execution_count": 5,
   "id": "ec230c80",
   "metadata": {},
   "outputs": [
    {
     "name": "stdout",
     "output_type": "stream",
     "text": [
      "3000\n"
     ]
    }
   ],
   "source": [
    "#Only args = value /Default/\n",
    "\n",
    "def add_numbers(input1 = 1000, input2 = 2000):\n",
    "    sum = input1 + input2\n",
    "    return sum\n",
    "result = add_numbers()\n",
    "print(result)"
   ]
  },
  {
   "cell_type": "code",
   "execution_count": 8,
   "id": "e5a21061",
   "metadata": {},
   "outputs": [
    {
     "name": "stdout",
     "output_type": "stream",
     "text": [
      "Sum: 8\n",
      "Sum: 22\n",
      "Sum: 17\n"
     ]
    }
   ],
   "source": [
    "#Only *args\n",
    "\n",
    "def adder(*num):\n",
    "    sum = 0\n",
    "    \n",
    "    for n in num:\n",
    "        sum = sum + n\n",
    "\n",
    "    print(\"Sum:\",sum)\n",
    "\n",
    "adder(3,5)\n",
    "adder(4,5,6,7)\n",
    "adder(1,2,3,5,6)"
   ]
  },
  {
   "cell_type": "code",
   "execution_count": 9,
   "id": "12f393ba",
   "metadata": {},
   "outputs": [
    {
     "name": "stdout",
     "output_type": "stream",
     "text": [
      "\n",
      "Data type of argument: <class 'dict'>\n",
      "Firstname is Khongorzul\n",
      "Lastname is Gantulga\n",
      "Age is 20\n",
      "Phone is 99199481\n",
      "\n",
      "Data type of argument: <class 'dict'>\n",
      "Firstname is Munkhzul\n",
      "Lastname is Gantulga\n",
      "Country is Mongolia\n",
      "Age is 17\n"
     ]
    }
   ],
   "source": [
    "#Only kwargs\n",
    "\n",
    "def intro(**data):\n",
    "    print(\"\\nData type of argument:\",type(data))\n",
    "\n",
    "    for key, value in data.items():\n",
    "        print(\"{} is {}\".format(key,value))\n",
    "\n",
    "intro(Firstname=\"Khongorzul\", Lastname=\"Gantulga\", Age=20, Phone=99199481)\n",
    "intro(Firstname=\"Munkhzul\", Lastname=\"Gantulga\", Country=\"Mongolia\", Age=17)"
   ]
  },
  {
   "cell_type": "code",
   "execution_count": 12,
   "id": "ee8212f2",
   "metadata": {},
   "outputs": [
    {
     "name": "stdout",
     "output_type": "stream",
     "text": [
      "args:  ('Hi', 'Homework')\n",
      "kwargs:  {'first': 'Only args', 'last': 'Mix'}\n"
     ]
    }
   ],
   "source": [
    "#Mix of *args and *kwargs \n",
    "\n",
    "def myFunc(*args,**kwargs):\n",
    "    print(\"args: \", args)\n",
    "    print(\"kwargs: \", kwargs)\n",
    "\n",
    "myFunc('Hi','Homework',first=\"Only args\",last=\"Mix\")"
   ]
  },
  {
   "cell_type": "code",
   "execution_count": 13,
   "id": "8bebc337",
   "metadata": {},
   "outputs": [
    {
     "name": "stdout",
     "output_type": "stream",
     "text": [
      "args value: (3,)\n",
      "kwargs value: {'number1': 6, 'number2': 8}\n",
      "20\n"
     ]
    }
   ],
   "source": [
    "#Mix of *args and *kwargs \n",
    "\n",
    "def sum(x, y, *args, **kwargs):\n",
    "    print(\"args value:\", args)\n",
    "    print(\"kwargs value:\", kwargs)\n",
    "\n",
    "    result = x + y\n",
    "\n",
    "    if args:\n",
    "        for arg in args:\n",
    "            result += arg\n",
    "\n",
    "    if kwargs:\n",
    "        for kwarg in kwargs.values():\n",
    "            result += kwarg\n",
    "\n",
    "    return result\n",
    "print(sum(1, 2, 3, number1=6, number2=8))"
   ]
  },
  {
   "cell_type": "markdown",
   "id": "dcbaa1f7",
   "metadata": {},
   "source": [
    "Task 2"
   ]
  },
  {
   "cell_type": "code",
   "execution_count": 14,
   "id": "a753e62f",
   "metadata": {},
   "outputs": [
    {
     "name": "stdout",
     "output_type": "stream",
     "text": [
      "Hello!!! Welcome to the Deposit & Withdrawal Machine of Golomt Bank\n",
      "Enter amount to be Deposited: 100\n",
      "\n",
      " Amount Deposited: 100.0\n",
      "Enter amount to be Withdrawn: 200\n",
      "\n",
      " Insufficient balance  \n",
      "\n",
      " Net Available Balance= 100.0\n"
     ]
    }
   ],
   "source": [
    "# Python program to create Bankaccount class\n",
    "# with both a deposit() and a withdraw() function\n",
    "class Bank_Account:\n",
    "    def __init__(self):\n",
    "        self.balance=0\n",
    "        print(\"Hello!!! Welcome to the Deposit & Withdrawal Machine of Golomt Bank\")\n",
    " \n",
    "    def deposit(self):\n",
    "        amount=float(input(\"Enter amount to be Deposited: \"))\n",
    "        self.balance += amount\n",
    "        print(\"\\n Amount Deposited:\",amount)\n",
    " \n",
    "    def withdraw(self):\n",
    "        amount = float(input(\"Enter amount to be Withdrawn: \"))\n",
    "        if self.balance>=amount:\n",
    "            self.balance-=amount\n",
    "            print(\"\\n You Withdrew:\", amount)\n",
    "        else:\n",
    "            print(\"\\n Insufficient balance  \")\n",
    " \n",
    "    def display(self):\n",
    "        print(\"\\n Net Available Balance=\",self.balance)\n",
    " \n",
    "# Driver code\n",
    "  \n",
    "# creating an object of class\n",
    "s = Bank_Account()\n",
    "  \n",
    "# Calling functions with that class object\n",
    "s.deposit()\n",
    "s.withdraw()\n",
    "s.display()"
   ]
  },
  {
   "cell_type": "markdown",
   "id": "7784d44a",
   "metadata": {},
   "source": [
    "Task 3"
   ]
  },
  {
   "cell_type": "code",
   "execution_count": 15,
   "id": "00121d15",
   "metadata": {},
   "outputs": [
    {
     "data": {
      "text/plain": [
       "array([-392,  -93,  329,  362, -403,  216, -412, -165,  875, -100,  608,\n",
       "        227, -473, -482, -454,  258,  865, -201,  978,  158, -213,  501,\n",
       "        769,   70,   32,  127,  327, -365,  191,  805,  -69,  230, -225,\n",
       "         61,  452,  279,  440, -387,  476,   11, -398,  681,  955, -470,\n",
       "        873,  781, -267, -302,  153,  241,  999,  123, -388,  -31,  141,\n",
       "       -373,  905,  128,  152, -400, -282,   76,  393,  547,  899,  997,\n",
       "       -125,  177, -341,  257, -234,  573,  998, -246,  766,  731,  440,\n",
       "        -27,  307,  466,  433,   74,   55, -103,  765, -158,  678,  320,\n",
       "       -119,  511,  923,  -19,  867,   25,  901,  966,  520,  261,  141,\n",
       "        402, -228,  384,  749,  508,  775,  408,  935,  360,  301,  782,\n",
       "        737,  113,  864, -361,  161,  994, -276, -410,  416,  348,  996,\n",
       "        622,  399,  253,  -35,  584, -171,  -72,  466,  590, -478,  513,\n",
       "        -36,  610,   37, -312,  -68,  686,  878,  215, -224,  645, -428,\n",
       "       -168, -475,  994,  -94, -121, -215,  460, -353,  184, -328,  -44,\n",
       "       -206,  810, -166,  537,  263,  785,  253,  766,  686,  429,  910,\n",
       "        403, -322,   47,  760,  265,  937,  -10,  179, -472, -457,  565,\n",
       "         12,  592, -323,  875, -176,  -25,  694, -321, -383,  814,  556,\n",
       "        159, -331, -218,  342,   42,  711,  323,  831,   30,  905, -360,\n",
       "        554,  693,  286,  664,  295,  447,  135,  657,  266,  442, -340,\n",
       "       -490,  855,  126,  946,  -11, -106,  -60,  697,  617,  359,  128,\n",
       "        324, -449, -391, -135,  201,  257,   40,  -85, -214,  861,   83,\n",
       "        -96,  -77, -406, -240,  822,  671, -151,   39,  994,  186,  687,\n",
       "       -458,  879,   74,  255,  272,  767,  576,  950,  323, -186,  109,\n",
       "        387,  855, -199,  642, -234,  392,  703,  928, -165,  157, -298,\n",
       "        896, -259,  155,  461,  944,  673, -107, -486,   -2, -346,  423,\n",
       "       -299, -129, -455,  654,  383, -172,  365,  314,  833,  809,   54,\n",
       "        269, -100, -143,  460,  677,  663,  794, -430,   56, -351,  132,\n",
       "        225, -187,  735, -347, -100, -108,  792,  153, -388,  538, -223,\n",
       "         80,  913, -220,  -73, -242,  742,  -72,  666,  -71,  910,  826,\n",
       "       -197,  150, -139, -454,  642, -474,  221, -139,  296,  677,  541,\n",
       "         26,   54, -226,  -48,   71,  282,   46,  784,  542,  449, -410,\n",
       "        373,  446, -365,  241,  265,   14, -345, -191, -361, -173,  490,\n",
       "       -370,  -75, -188,   76,  336,  547, -131,  426,  441,   44, -275,\n",
       "       -351,  674,  187, -163,  657,  932,  798,  616,  388,  551,  876,\n",
       "       -148,  700,   79,  190,  170,  490, -174, -410,  741,  938,  -96,\n",
       "        501,  596,  554,  870, -108,   96,  441,  523,  671,  802,  484,\n",
       "        269, -424, -116, -278, -122, -448,  826,  242,  920,  149,  602,\n",
       "        313,  654, -475, -192,   21, -359, -455,  885,  130, -219,   98,\n",
       "        592,  -42,  654, -116,  649, -234, -276, -209,  641,   55,  314,\n",
       "        325,  531,  836, -255, -203,  578,  -74, -441, -423,  584,  -96,\n",
       "        653,  573,  -29,  189,  452,  236, -200,  678, -467,  277,  417,\n",
       "        776,  794, -492,  781,   39, -316,  160, -454,  401, -340,  889,\n",
       "         25, -346, -254,   20,   56,  380, -409,  875,  814, -478,  421,\n",
       "        728, -160,  541, -160, -179, -445,  267,  316,  444, -305,  286,\n",
       "         36,  455,  237,  722,  148,  784,  493, -173,  914, -407,  244,\n",
       "        618,  273, -351,  973,  709, -274, -461,  984,  655,  547,  496,\n",
       "        -81,  496,    6, -449, -133, -463, -180, -137,  474,  927,  676,\n",
       "        844,  249,  162,  798, -299,  601,  812,  336,  473,  418,  200,\n",
       "        785,  781,  916,  123,  375,  141,  -78,  921,  228, -318,  450,\n",
       "        835,  864, -266, -109,   70,  713,  -73, -359,    8,  570,  313,\n",
       "       -365,  134, -166,  349,   52,  972,  147, -128, -263,  769,  -79,\n",
       "        294,  281,  453, -406,  152,  -19,  930, -435,   23, -393,   44,\n",
       "        118, -274,  207, -403,  -13,  126,  891,  904,  495,  366,   85,\n",
       "       -319, -195, -450, -197,  733,  -47, -158, -417, -365,  894,  961,\n",
       "        559,  231, -203,  206, -289, -465,  612,  906, -255,  135,  977,\n",
       "       -245, -251,  962,  -42, -458,  -67, -118, -121,  786,  943, -236,\n",
       "       -295,  616,  840,  254,  929,  714, -172, -392,  147,   81,  232,\n",
       "         94,  332,  952,  823,  739,  710,  400,  110,  -89,  700,  194,\n",
       "        568,  157,  365,  790,  625, -466,   33,  414,   77,  488,  706,\n",
       "        189, -398,   86, -148, -429,  188,  258, -144, -340,  842,  648,\n",
       "        473,  827,  810,  502,  -39,  768,  392,  519, -317,  104, -227,\n",
       "        809,   86,  992,  894,  518,  406,  251,  960,  114,  955,  769,\n",
       "        224,  153,   67,  -81,  652, -295,  997,  230,  963,  859,  958,\n",
       "       -389,  328,  281,  222,  346,  832, -341,   42,  892, -314,  286,\n",
       "        929,  546,  240,  912, -126, -274,  814,  590,  717,  305,  779,\n",
       "        147, -335, -311,  998,  -25,  113,  935,  575,  934,  962,  707,\n",
       "        452,  104, -485, -168,  531, -461,  875,  -12, -359,  727,  457,\n",
       "         26,  -17, -441, -343, -254, -298,  344,  -85,  -23,  986, -337,\n",
       "        517, -273,  381,  609,  191,  928,  175,   -5,  499,  668,  340,\n",
       "        911,  974, -315,  298, -298, -446, -122,  220,  363,  584,  708,\n",
       "       -229,  943,  459, -272,  584,  724,  584,  723,  377, -473,    9,\n",
       "       -331,  191,  227,  114,  483,   67, -187, -121,  369,  360, -479,\n",
       "       -418,  220, -491,  364,  839,  283,  962, -113,  -33,  687,  843,\n",
       "         97, -258,  530, -360,  173, -243,  940, -302,  475, -341,  354,\n",
       "        827,  670,  522,  785, -107,  742,  756,  945,  860,   57,  552,\n",
       "        784,   46, -471,  654, -463,  106,  291, -122,  562,  -33,  837,\n",
       "        859,  853, -158,  720, -202,  127,  429, -298,  790,  790, -220,\n",
       "        284,  858,  409,  352,  984,  465,  -86,  774,  431, -147,  145,\n",
       "         70,  757,  510,  541, -157,  299, -151,  227,  -33,  862, -439,\n",
       "       -425, -284,  -22,  200,  281,  546,  -75,   96,  389, -158, -327,\n",
       "       -383, -275, -362,  142,  558,  -28,   63,  377,  360, -272,  -98,\n",
       "       -269, -230, -278,  318,   58, -430, -194, -456,  903, -226,  944,\n",
       "        865,  311,  848,   80,  668,  580,  281,  623, -197,   30,  709,\n",
       "        330,  418, -493,  185, -312,  827,  486, -482, -437,  608,   66,\n",
       "        978,  440,  -95,  716,  328,  339,  371,  196, -438,  438,  122,\n",
       "       -341,  742,  -61, -229,  355, -498,  901,  504,  251,  214,   20,\n",
       "         25,  392,  678, -225,  261,  558,  409, -471,  406,  697,  885,\n",
       "        971,  479,   58, -168, -195,  442,  919,  516,  500,   62,  365,\n",
       "        264, -436,  121,  573,  238,  821,   55,  190,  332, -357,  886,\n",
       "        912, -500, -444,  192,  469,  715,  504,   78,  305, -385,  928,\n",
       "       -264,  180,  532, -459, -411,  457,  244,  762,  494, -294])"
      ]
     },
     "execution_count": 15,
     "metadata": {},
     "output_type": "execute_result"
    }
   ],
   "source": [
    "import numpy as np\n",
    "\n",
    "randnums= np.random.randint(-500,1000,1000)\n",
    "\n",
    "randnums\n"
   ]
  },
  {
   "cell_type": "code",
   "execution_count": 16,
   "id": "6f2a836a",
   "metadata": {},
   "outputs": [
    {
     "name": "stdout",
     "output_type": "stream",
     "text": [
      "-392\n",
      "-412\n",
      "-100\n",
      "-482\n",
      "-454\n",
      "-398\n",
      "-470\n",
      "-302\n",
      "-388\n",
      "-400\n",
      "-282\n",
      "-234\n",
      "-246\n",
      "-158\n",
      "-228\n",
      "-276\n",
      "-410\n",
      "-72\n",
      "-478\n",
      "-36\n",
      "-312\n",
      "-68\n",
      "-224\n",
      "-428\n",
      "-168\n",
      "-94\n",
      "-328\n",
      "-44\n",
      "-206\n",
      "-166\n",
      "-322\n",
      "-10\n",
      "-472\n",
      "-176\n",
      "-218\n",
      "-360\n",
      "-340\n",
      "-490\n",
      "-106\n",
      "-60\n",
      "-214\n",
      "-96\n",
      "-406\n",
      "-240\n",
      "-458\n",
      "-186\n",
      "-234\n",
      "-298\n",
      "-486\n",
      "-2\n",
      "-346\n",
      "-172\n",
      "-100\n",
      "-430\n",
      "-100\n",
      "-108\n",
      "-388\n",
      "-220\n",
      "-242\n",
      "-72\n",
      "-454\n",
      "-474\n",
      "-226\n",
      "-48\n",
      "-410\n",
      "-370\n",
      "-188\n",
      "-148\n",
      "-174\n",
      "-410\n",
      "-96\n",
      "-108\n",
      "-424\n",
      "-116\n",
      "-278\n",
      "-122\n",
      "-448\n",
      "-192\n",
      "-42\n",
      "-116\n",
      "-234\n",
      "-276\n",
      "-74\n",
      "-96\n",
      "-200\n",
      "-492\n",
      "-316\n",
      "-454\n",
      "-340\n",
      "-346\n",
      "-254\n",
      "-478\n",
      "-160\n",
      "-160\n",
      "-274\n",
      "-180\n",
      "-78\n",
      "-318\n",
      "-266\n",
      "-166\n",
      "-128\n",
      "-406\n",
      "-274\n",
      "-450\n",
      "-158\n",
      "-42\n",
      "-458\n",
      "-118\n",
      "-236\n",
      "-172\n",
      "-392\n",
      "-466\n",
      "-398\n",
      "-148\n",
      "-144\n",
      "-340\n",
      "-314\n",
      "-126\n",
      "-274\n",
      "-168\n",
      "-12\n",
      "-254\n",
      "-298\n",
      "-298\n",
      "-446\n",
      "-122\n",
      "-272\n",
      "-418\n",
      "-258\n",
      "-360\n",
      "-302\n",
      "-122\n",
      "-158\n",
      "-202\n",
      "-298\n",
      "-220\n",
      "-86\n",
      "-284\n",
      "-22\n",
      "-158\n",
      "-362\n",
      "-28\n",
      "-272\n",
      "-98\n",
      "-230\n",
      "-278\n",
      "-430\n",
      "-194\n",
      "-456\n",
      "-226\n",
      "-312\n",
      "-482\n",
      "-438\n",
      "-498\n",
      "-168\n",
      "-436\n",
      "-500\n",
      "-444\n",
      "-264\n",
      "-294\n"
     ]
    }
   ],
   "source": [
    "for i in randnums:\n",
    "    if (i%2 == 0) & (i <= 0):\n",
    "        print(i)\n",
    "        if (i%2 != 0):\n",
    "            print (\"Odd error\")\n",
    "        if (i%2 == 0) & (i >= 0):\n",
    "            print (\"Sign error\")\n",
    "    else :\n",
    "        continue"
   ]
  },
  {
   "cell_type": "markdown",
   "id": "7afc989b",
   "metadata": {},
   "source": [
    "Task 4\n",
    "1. Debugging - Дибаг хийх нь програмын гүйцэтгэлийг бүрэн хянах гэсэн үг юм. Хөгжүүлэгчид програмыг аливаа муу асуудлаас ангижруулахын тулд дибаг хийдэг. Тиймээс дибаг хийх нь програмын хувьд илүү эрүүл үйл явц бөгөөд алдааг олж илрүүлдэг. \n",
    "2. Hitcount, log message, expression гэсэн 3 төрөл байна. Log message-г код ажиллуулах явцад асуудал гарсан тохиолдолд хаана  үүссэнийг тодорхойлоход ашиглаж болно. Hitcount - г тодорхой шугам дээрх breakpoint-н тоог тодорхойлоход ашиглагддаг бөгөөд үүн дээр үндэслэн дибаг хийгчийг эвддэг.\n",
    "3. Step over – Өгөгдсөн мөрний дараагийн мөрнөөс эхлээд debugging хийх үйлдэл. Хэрэв мөрөнд функц байгаа бол функцийг гүйцэтгэх бөгөөд мөр бүрийг дибаг хийхгүйгээр үр дүнг буцаана.\n",
    "Step into - Дебаглагч дээр хийх арга хэмжээ. Хэрэв мөрөнд функц агуулаагүй бол энэ нь \"шатлах\"-тай адил үйлдэл хийх боловч хэрэв үүнийг хийвэл дибаглагч дуудагдсан функц руу орж, мөр мөрөөр дибаг хийх болно.\n",
    "Step out - Одоогийн функц дуудагдсан мөр рүү буцаж дибаг хийх үйлдэл."
   ]
  },
  {
   "cell_type": "code",
   "execution_count": null,
   "id": "da8dc874",
   "metadata": {},
   "outputs": [],
   "source": [
    "#Task 5\n",
    "import re\n",
    "\n",
    "text = \"Dorj Bat. He was born on 17th of February, 1995\\\n",
    "Has got bachelor degree. Phone: 99779977, uses Mobicom. \\\n",
    "Graduated 3rd secondary school of Khovd aimag. \\\n",
    "Citizen ID KhO95021701. PIN code of Khan bank card is 0011\\\n",
    "Lives with his wife and two children.\"\n",
    "\n",
    "\n",
    "citizenId = re.findall(\"\\w{2,3}(?=\\d{8})\\d{8}\",text)\n",
    "region    = re.findall(r\"(Khovd|Uvs|Zavkhan)\",text)\n",
    "mobileOperator = re.findall(r\"(Mobicom|Unitel|Skytel|G-mobile)\",text)\n",
    "mobile_number  = re.findall(\"(?<=\\s)\\d{8}\",text)\n",
    "bank           = re.findall(\"\\s(\\w*)\\sbank\",text)\n",
    "nChild         = re.findall(\"\\s(\\w*)\\schildren\",text)\n"
   ]
  },
  {
   "cell_type": "code",
   "execution_count": 28,
   "id": "9bbe9bfd",
   "metadata": {},
   "outputs": [],
   "source": [
    "import re\n",
    "\n",
    "text = \"My name is Anna. \\\n",
    "I grew up as an only child.\\\n",
    "I am 13 old. \\\n",
    "My parents died while I was quite little, so I live with my grandparents.\\\n",
    "I am in seventh class.\\\n",
    "My student id is KH7895,\\\n",
    "I have had a lot of people invest in me academically, so I have excelled in most of my classes. \\\n",
    "My hobbies include music, reading and traveling.\\\n",
    "As well as my mobile number is 99857698\\\n",
    "\n",
    "\n",
    "studentId = re.findall(\"\\w{2,3}(?=\\d{4})\\d{4}\",text)\n",
    "hobby    = re.findall(r\"(music|basketball|reading)\",text)\n",
    "mobile_number  = re.findall(\"(?<=\\s)\\d{8}\",text)\n",
    "nclass          = re.findall(\"seventh\",text)\n",
    "nChild         = re.findall(\"\\s(\\w*)\\schild\",text)\n"
   ]
  },
  {
   "cell_type": "code",
   "execution_count": 20,
   "id": "ef4ae62c",
   "metadata": {},
   "outputs": [
    {
     "data": {
      "text/plain": [
       "['KH7895']"
      ]
     },
     "execution_count": 20,
     "metadata": {},
     "output_type": "execute_result"
    }
   ],
   "source": [
    "studentId"
   ]
  },
  {
   "cell_type": "code",
   "execution_count": 21,
   "id": "372dc32d",
   "metadata": {},
   "outputs": [
    {
     "data": {
      "text/plain": [
       "['music', 'reading']"
      ]
     },
     "execution_count": 21,
     "metadata": {},
     "output_type": "execute_result"
    }
   ],
   "source": [
    "hobby"
   ]
  },
  {
   "cell_type": "code",
   "execution_count": 27,
   "id": "ec15cc7f",
   "metadata": {},
   "outputs": [
    {
     "data": {
      "text/plain": [
       "['seventh']"
      ]
     },
     "execution_count": 27,
     "metadata": {},
     "output_type": "execute_result"
    }
   ],
   "source": [
    "nclass"
   ]
  },
  {
   "cell_type": "code",
   "execution_count": 29,
   "id": "3db064b3",
   "metadata": {},
   "outputs": [
    {
     "data": {
      "text/plain": [
       "['99857698']"
      ]
     },
     "execution_count": 29,
     "metadata": {},
     "output_type": "execute_result"
    }
   ],
   "source": [
    "mobile_number"
   ]
  },
  {
   "cell_type": "code",
   "execution_count": 30,
   "id": "f0d16b7b",
   "metadata": {},
   "outputs": [
    {
     "data": {
      "text/plain": [
       "['only']"
      ]
     },
     "execution_count": 30,
     "metadata": {},
     "output_type": "execute_result"
    }
   ],
   "source": [
    "nChild"
   ]
  }
 ],
 "metadata": {
  "kernelspec": {
   "display_name": "Python 3",
   "language": "python",
   "name": "python3"
  },
  "language_info": {
   "codemirror_mode": {
    "name": "ipython",
    "version": 3
   },
   "file_extension": ".py",
   "mimetype": "text/x-python",
   "name": "python",
   "nbconvert_exporter": "python",
   "pygments_lexer": "ipython3",
   "version": "3.8.8"
  }
 },
 "nbformat": 4,
 "nbformat_minor": 5
}
